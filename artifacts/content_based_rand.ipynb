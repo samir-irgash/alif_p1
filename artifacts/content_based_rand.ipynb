{
 "cells": [
  {
   "metadata": {
    "ExecuteTime": {
     "end_time": "2024-12-15T17:55:13.320071Z",
     "start_time": "2024-12-15T17:55:12.156341Z"
    }
   },
   "cell_type": "code",
   "source": [
    "import numpy as np\n",
    "import pandas as pd\n",
    "from sklearn.base import BaseEstimator\n",
    "from sklearn.feature_extraction.text import TfidfVectorizer\n",
    "from tqdm import tqdm\n",
    "from sklearn.preprocessing import normalize\n",
    "from scipy.sparse import csr_matrix"
   ],
   "id": "8651df9183abc6e1",
   "outputs": [],
   "execution_count": 1
  },
  {
   "metadata": {
    "ExecuteTime": {
     "end_time": "2024-12-15T17:55:13.323234Z",
     "start_time": "2024-12-15T17:55:13.321227Z"
    }
   },
   "cell_type": "code",
   "source": [
    "def hit_rate(y_rec, y_rel, k=10):\n",
    "    return int(len(set(y_rel).intersection(y_rec[:k])) > 0)"
   ],
   "id": "250ed3b6918df59b",
   "outputs": [],
   "execution_count": 2
  },
  {
   "metadata": {
    "ExecuteTime": {
     "end_time": "2024-12-15T17:55:13.612762Z",
     "start_time": "2024-12-15T17:55:13.323974Z"
    }
   },
   "cell_type": "code",
   "source": [
    "train_set = pd.read_parquet('../data/train.parquet')\n",
    "test_set = pd.read_parquet('../data/test.parquet')\n",
    "\n",
    "anime_with_features = pd.read_parquet('../data/anime_with_features.parquet')"
   ],
   "id": "4548dc771949c34d",
   "outputs": [],
   "execution_count": 3
  },
  {
   "metadata": {
    "ExecuteTime": {
     "end_time": "2024-12-15T17:55:13.616161Z",
     "start_time": "2024-12-15T17:55:13.613651Z"
    }
   },
   "cell_type": "code",
   "source": "anime_ids = anime_with_features['MAL_ID'].to_list()",
   "id": "fdcfc853ee1cb06c",
   "outputs": [],
   "execution_count": 4
  },
  {
   "metadata": {
    "ExecuteTime": {
     "end_time": "2024-12-15T17:55:13.625345Z",
     "start_time": "2024-12-15T17:55:13.618311Z"
    }
   },
   "cell_type": "code",
   "source": [
    "class ContentBasedModel:\n",
    "    def __init__(self):\n",
    "        self.similarity_matrix = None\n",
    "        self.anime_ids = None\n",
    "\n",
    "    def train(self, data):\n",
    "        # id to index map\n",
    "        self.anime_ids = data['MAL_ID'].to_list()\n",
    "        \n",
    "        similarities_by_col = {}\n",
    "        feature_columns = [\n",
    "            'Genres_f',\n",
    "            'Type_f',\n",
    "            'Source_f',\n",
    "            'Studios_f',\n",
    "            'Favorites_f',\n",
    "            'Popularity_f',\n",
    "            'Members_f',\n",
    "            'Rating_f',\n",
    "            'Synopsis_f'\n",
    "        ]\n",
    "        \n",
    "        for col in tqdm(feature_columns):\n",
    "            if col == 'Synopsis_f':\n",
    "                continue\n",
    "            # закодируем категориальные признаки\n",
    "            mapping = {k: v for v, k in enumerate(data[col].explode().unique().tolist())}\n",
    "        \n",
    "            # построим разреженную матрицу признаков для каждого тайтла\n",
    "            rows = []\n",
    "            cols = []\n",
    "            values = []\n",
    "            for row_ind, value in enumerate(data[col]):\n",
    "                value = [] if value is None else value\n",
    "        \n",
    "                # колонки – значения признака\n",
    "                col_inds = [mapping[x] for x in value]\n",
    "                rows.extend([row_ind] * len(col_inds))\n",
    "                # ставим 1, если такой признак относится к тайтлу\n",
    "                values.extend([1] * len(col_inds))\n",
    "                cols.extend(col_inds)\n",
    "        \n",
    "            # построим матрицу похожести для каждого признака с помощью матрики косинусного расстояния\n",
    "            sparse_data = csr_matrix((values, (rows, cols)))\n",
    "            sparse_data = normalize(sparse_data, norm=\"l2\", axis=1)\n",
    "            similarities_by_col[col] = (sparse_data @ sparse_data.T).A\n",
    "            \n",
    "            \n",
    "        vectorizer = TfidfVectorizer(sublinear_tf=True, ngram_range=(1, 2), norm='l2')\n",
    "        data['synopsis'] = data['synopsis'].fillna('')\n",
    "        anime_tfidf_matrix = vectorizer.fit_transform(data['synopsis'].tolist())\n",
    "        similarities_by_col['Synopsis_f'] = (anime_tfidf_matrix @ anime_tfidf_matrix.T).A\n",
    "        \n",
    "        \n",
    "        N = len(data)\n",
    "        self.similarity_matrix = np.zeros((N, N))\n",
    "        for k, v in tqdm(similarities_by_col.items()):\n",
    "            weight = 1  # каждый признак имеет одинаковую важность\n",
    "            # итоговая похожесть -- усреднение похожести по каждому признаку\n",
    "            self.similarity_matrix += weight * (v - np.eye(N))  # вычитаем\n",
    "        \n",
    "\n",
    "    def recommend(self, user_id, data, top_k=10):\n",
    "        if user_id not in data['user_id'].unique():\n",
    "            raise ValueError('cold user 🥶')\n",
    "        \n",
    "        # random item from user rating history\n",
    "        user_anime_ids = data[data['user_id'] == user_id]['anime_id'].tolist()\n",
    "        anime_id = np.random.choice(user_anime_ids, 1)\n",
    "        anime_ind = self.anime_ids.index(anime_id)\n",
    "        \n",
    "        # find top_k similar animes\n",
    "        similarity_scores = self.similarity_matrix[anime_ind]\n",
    "        nearest_animes = np.argsort(similarity_scores)[::-1][1:top_k + 1]\n",
    "        recs = [self.anime_ids[i] for i in nearest_animes]\n",
    "\n",
    "        return recs"
   ],
   "id": "213ec0a6f8616bbc",
   "outputs": [],
   "execution_count": 5
  },
  {
   "metadata": {
    "ExecuteTime": {
     "end_time": "2024-12-15T17:55:13.627677Z",
     "start_time": "2024-12-15T17:55:13.626195Z"
    }
   },
   "cell_type": "code",
   "source": "cb_model = ContentBasedModel()",
   "id": "ed3b2fc8a9f75b26",
   "outputs": [],
   "execution_count": 6
  },
  {
   "metadata": {
    "ExecuteTime": {
     "end_time": "2024-12-15T17:55:13.632183Z",
     "start_time": "2024-12-15T17:55:13.628449Z"
    }
   },
   "cell_type": "code",
   "source": "anime_with_features.columns",
   "id": "64aae28eb807cb49",
   "outputs": [
    {
     "data": {
      "text/plain": [
       "Index(['MAL_ID', 'Name', 'Score', 'Genres', 'English name', 'Japanese name',\n",
       "       'Type', 'Episodes', 'Aired', 'Premiered', 'Producers', 'Licensors',\n",
       "       'Studios', 'Source', 'Duration', 'Rating', 'Ranked', 'Popularity',\n",
       "       'Members', 'Favorites', 'Watching', 'Completed', 'On-Hold', 'Dropped',\n",
       "       'Plan to Watch', 'Score-10', 'Score-9', 'Score-8', 'Score-7', 'Score-6',\n",
       "       'Score-5', 'Score-4', 'Score-3', 'Score-2', 'Score-1', 'synopsis',\n",
       "       'Source_f', 'Studios_f', 'Type_f', 'Rating_f', 'Popularity_f',\n",
       "       'Members_f', 'Favorites_f', 'Genres_f'],\n",
       "      dtype='object')"
      ]
     },
     "execution_count": 7,
     "metadata": {},
     "output_type": "execute_result"
    }
   ],
   "execution_count": 7
  },
  {
   "metadata": {
    "ExecuteTime": {
     "end_time": "2024-12-15T17:56:01.031153Z",
     "start_time": "2024-12-15T17:55:13.632988Z"
    }
   },
   "cell_type": "code",
   "source": "cb_model.train(anime_with_features)",
   "id": "2605b92b1a8d2292",
   "outputs": [
    {
     "name": "stderr",
     "output_type": "stream",
     "text": [
      "100%|██████████| 9/9 [00:06<00:00,  1.41it/s]\n",
      "100%|██████████| 9/9 [00:32<00:00,  3.59s/it]\n"
     ]
    }
   ],
   "execution_count": 8
  },
  {
   "metadata": {
    "ExecuteTime": {
     "end_time": "2024-12-15T17:56:01.081320Z",
     "start_time": "2024-12-15T17:56:01.042144Z"
    }
   },
   "cell_type": "code",
   "source": "train_set.dtypes",
   "id": "37be8e01daba2678",
   "outputs": [
    {
     "data": {
      "text/plain": [
       "user_id             int64\n",
       "anime_id            int64\n",
       "rating              int64\n",
       "watching_status     int64\n",
       "watched_episodes    int64\n",
       "dtype: object"
      ]
     },
     "execution_count": 9,
     "metadata": {},
     "output_type": "execute_result"
    }
   ],
   "execution_count": 9
  },
  {
   "metadata": {
    "ExecuteTime": {
     "end_time": "2024-12-15T18:08:49.991697Z",
     "start_time": "2024-12-15T18:00:22.744959Z"
    }
   },
   "cell_type": "code",
   "source": [
    "# Evaluate on the test set\n",
    "test_hit_rates = []\n",
    "cold_user_count = 0\n",
    "for user_id in tqdm(test_set['user_id'].unique()):\n",
    "    try:\n",
    "        actual_items = test_set[test_set['user_id'] == user_id]['anime_id'].tolist()\n",
    "        recommendations = cb_model.recommend(user_id, train_set, top_k=10)\n",
    "        test_hit_rates.append(hit_rate(recommendations, actual_items))\n",
    "    except ValueError as e:\n",
    "        cold_user_count += 1\n",
    "\n",
    "test_hit_rate = np.mean(test_hit_rates)\n",
    "print(f\"Hit Rate on Test Set: {test_hit_rate}\")"
   ],
   "id": "7ea68b731db96638",
   "outputs": [
    {
     "name": "stderr",
     "output_type": "stream",
     "text": [
      "100%|██████████| 26851/26851 [08:27<00:00, 52.94it/s]"
     ]
    },
    {
     "name": "stdout",
     "output_type": "stream",
     "text": [
      "Hit Rate on Test Set: 0.1913284409165793\n"
     ]
    },
    {
     "name": "stderr",
     "output_type": "stream",
     "text": [
      "\n"
     ]
    }
   ],
   "execution_count": 11
  },
  {
   "metadata": {
    "ExecuteTime": {
     "start_time": "2024-12-15T18:00:18.438150Z"
    }
   },
   "cell_type": "code",
   "source": "train_set",
   "id": "9e2a858512d2a1a7",
   "outputs": [],
   "execution_count": null
  },
  {
   "metadata": {
    "ExecuteTime": {
     "end_time": "2024-12-15T17:40:39.935713Z",
     "start_time": "2024-12-15T17:40:39.889725Z"
    }
   },
   "cell_type": "code",
   "source": "train_set[train_set['user_id'] == 28645].sort_values(by='rating', ascending=False)['anime_id'].to_list()[0]",
   "id": "845f2a791894510e",
   "outputs": [
    {
     "data": {
      "text/plain": [
       "19"
      ]
     },
     "execution_count": 68,
     "metadata": {},
     "output_type": "execute_result"
    }
   ],
   "execution_count": 68
  },
  {
   "metadata": {},
   "cell_type": "code",
   "outputs": [],
   "execution_count": null,
   "source": "",
   "id": "3616392b7c61603d"
  }
 ],
 "metadata": {
  "kernelspec": {
   "display_name": "Python 3",
   "language": "python",
   "name": "python3"
  },
  "language_info": {
   "codemirror_mode": {
    "name": "ipython",
    "version": 2
   },
   "file_extension": ".py",
   "mimetype": "text/x-python",
   "name": "python",
   "nbconvert_exporter": "python",
   "pygments_lexer": "ipython2",
   "version": "2.7.6"
  }
 },
 "nbformat": 4,
 "nbformat_minor": 5
}
