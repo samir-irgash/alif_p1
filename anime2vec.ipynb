{
 "cells": [
  {
   "cell_type": "code",
   "metadata": {
    "ExecuteTime": {
     "end_time": "2024-12-09T12:33:59.366104Z",
     "start_time": "2024-12-09T12:33:59.358873Z"
    }
   },
   "source": [
    "import pandas as pd\n",
    "import numpy as np\n",
    "from tqdm import tqdm\n",
    "\n",
    "from typing import List\n",
    "from scipy.sparse import csr_matrix\n",
    "from sklearn.feature_extraction.text import TfidfVectorizer\n",
    "from sklearn.preprocessing import normalize"
   ],
   "outputs": [],
   "execution_count": 101
  },
  {
   "cell_type": "code",
   "metadata": {
    "ExecuteTime": {
     "end_time": "2024-12-09T11:18:36.999714Z",
     "start_time": "2024-12-09T11:18:36.823077Z"
    }
   },
   "source": [
    "anime_with_synopsis = pd.read_csv('./anime_dataset_1/anime_with_synopsis.csv')\n",
    "anime = pd.read_csv('./anime_dataset_1/anime.csv')"
   ],
   "outputs": [],
   "execution_count": 9
  },
  {
   "metadata": {
    "ExecuteTime": {
     "end_time": "2024-12-09T11:24:47.319751Z",
     "start_time": "2024-12-09T11:24:47.273737Z"
    }
   },
   "cell_type": "code",
   "source": "len(anime), len(anime_with_synopsis), len(anime.merge(anime_with_synopsis, on='MAL_ID', how='left'))",
   "outputs": [
    {
     "data": {
      "text/plain": [
       "(17562, 16214, 17562)"
      ]
     },
     "execution_count": 32,
     "metadata": {},
     "output_type": "execute_result"
    }
   ],
   "execution_count": 32
  },
  {
   "metadata": {
    "ExecuteTime": {
     "end_time": "2024-12-09T11:24:55.268769Z",
     "start_time": "2024-12-09T11:24:55.229659Z"
    }
   },
   "cell_type": "code",
   "source": "anime_with_features = anime.merge(anime_with_synopsis.drop(['Name', 'Score', 'Genres',], axis=1), on='MAL_ID', how='left').fillna('')",
   "outputs": [],
   "execution_count": 33
  },
  {
   "cell_type": "code",
   "metadata": {
    "ExecuteTime": {
     "end_time": "2024-12-09T11:24:55.966563Z",
     "start_time": "2024-12-09T11:24:55.948815Z"
    }
   },
   "source": "anime_with_features = anime_with_features.rename(columns={'sypnopsis': 'synopsis'})",
   "outputs": [],
   "execution_count": 34
  },
  {
   "metadata": {
    "ExecuteTime": {
     "end_time": "2024-12-09T11:24:56.074025Z",
     "start_time": "2024-12-09T11:24:56.071003Z"
    }
   },
   "cell_type": "code",
   "source": "anime.columns",
   "outputs": [
    {
     "data": {
      "text/plain": [
       "Index(['MAL_ID', 'Name', 'Score', 'Genres', 'English name', 'Japanese name',\n",
       "       'Type', 'Episodes', 'Aired', 'Premiered', 'Producers', 'Licensors',\n",
       "       'Studios', 'Source', 'Duration', 'Rating', 'Ranked', 'Popularity',\n",
       "       'Members', 'Favorites', 'Watching', 'Completed', 'On-Hold', 'Dropped',\n",
       "       'Plan to Watch', 'Score-10', 'Score-9', 'Score-8', 'Score-7', 'Score-6',\n",
       "       'Score-5', 'Score-4', 'Score-3', 'Score-2', 'Score-1'],\n",
       "      dtype='object')"
      ]
     },
     "execution_count": 35,
     "metadata": {},
     "output_type": "execute_result"
    }
   ],
   "execution_count": 35
  },
  {
   "metadata": {
    "ExecuteTime": {
     "end_time": "2024-12-09T11:24:56.582721Z",
     "start_time": "2024-12-09T11:24:56.580084Z"
    }
   },
   "cell_type": "code",
   "source": "anime_with_synopsis.columns",
   "outputs": [
    {
     "data": {
      "text/plain": [
       "Index(['MAL_ID', 'Name', 'Score', 'Genres', 'sypnopsis'], dtype='object')"
      ]
     },
     "execution_count": 36,
     "metadata": {},
     "output_type": "execute_result"
    }
   ],
   "execution_count": 36
  },
  {
   "metadata": {
    "ExecuteTime": {
     "end_time": "2024-12-09T11:25:01.749309Z",
     "start_time": "2024-12-09T11:25:01.745709Z"
    }
   },
   "cell_type": "code",
   "source": "anime_with_features.columns",
   "outputs": [
    {
     "data": {
      "text/plain": [
       "Index(['MAL_ID', 'Name', 'Score', 'Genres', 'English name', 'Japanese name',\n",
       "       'Type', 'Episodes', 'Aired', 'Premiered', 'Producers', 'Licensors',\n",
       "       'Studios', 'Source', 'Duration', 'Rating', 'Ranked', 'Popularity',\n",
       "       'Members', 'Favorites', 'Watching', 'Completed', 'On-Hold', 'Dropped',\n",
       "       'Plan to Watch', 'Score-10', 'Score-9', 'Score-8', 'Score-7', 'Score-6',\n",
       "       'Score-5', 'Score-4', 'Score-3', 'Score-2', 'Score-1', 'synopsis'],\n",
       "      dtype='object')"
      ]
     },
     "execution_count": 37,
     "metadata": {},
     "output_type": "execute_result"
    }
   ],
   "execution_count": 37
  },
  {
   "cell_type": "code",
   "metadata": {
    "ExecuteTime": {
     "end_time": "2024-12-09T11:25:05.755609Z",
     "start_time": "2024-12-09T11:25:05.726614Z"
    }
   },
   "source": "anime_with_features",
   "outputs": [
    {
     "data": {
      "text/plain": [
       "       MAL_ID                             Name    Score  \\\n",
       "0           1                     Cowboy Bebop     8.78   \n",
       "1           5  Cowboy Bebop: Tengoku no Tobira     8.39   \n",
       "2           6                           Trigun     8.24   \n",
       "3           7               Witch Hunter Robin     7.27   \n",
       "4           8                   Bouken Ou Beet     6.98   \n",
       "...       ...                              ...      ...   \n",
       "17557   48481  Daomu Biji Zhi Qinling Shen Shu  Unknown   \n",
       "17558   48483                     Mieruko-chan  Unknown   \n",
       "17559   48488  Higurashi no Naku Koro ni Sotsu  Unknown   \n",
       "17560   48491      Yama no Susume: Next Summit  Unknown   \n",
       "17561   48492                    Scarlet Nexus  Unknown   \n",
       "\n",
       "                                                  Genres  \\\n",
       "0        Action, Adventure, Comedy, Drama, Sci-Fi, Space   \n",
       "1                  Action, Drama, Mystery, Sci-Fi, Space   \n",
       "2      Action, Sci-Fi, Adventure, Comedy, Drama, Shounen   \n",
       "3      Action, Mystery, Police, Supernatural, Drama, ...   \n",
       "4              Adventure, Fantasy, Shounen, Supernatural   \n",
       "...                                                  ...   \n",
       "17557                   Adventure, Mystery, Supernatural   \n",
       "17558                       Comedy, Horror, Supernatural   \n",
       "17559  Mystery, Dementia, Horror, Psychological, Supe...   \n",
       "17560                   Adventure, Slice of Life, Comedy   \n",
       "17561                                    Action, Fantasy   \n",
       "\n",
       "                          English name                     Japanese name  \\\n",
       "0                         Cowboy Bebop                         カウボーイビバップ   \n",
       "1               Cowboy Bebop:The Movie                    カウボーイビバップ 天国の扉   \n",
       "2                               Trigun                             トライガン   \n",
       "3                   Witch Hunter Robin  Witch Hunter ROBIN (ウイッチハンターロビン)   \n",
       "4               Beet the Vandel Buster                            冒険王ビィト   \n",
       "...                                ...                               ...   \n",
       "17557                          Unknown                         盗墓笔记之秦岭神树   \n",
       "17558                          Unknown                           見える子ちゃん   \n",
       "17559  Higurashi:When They Cry – SOTSU                        ひぐらしのなく頃に卒   \n",
       "17560                          Unknown                ヤマノススメ Next Summit   \n",
       "17561                          Unknown                     SCARLET NEXUS   \n",
       "\n",
       "        Type Episodes                         Aired    Premiered  ...  \\\n",
       "0         TV       26   Apr 3, 1998 to Apr 24, 1999  Spring 1998  ...   \n",
       "1      Movie        1                   Sep 1, 2001      Unknown  ...   \n",
       "2         TV       26   Apr 1, 1998 to Sep 30, 1998  Spring 1998  ...   \n",
       "3         TV       26   Jul 2, 2002 to Dec 24, 2002  Summer 2002  ...   \n",
       "4         TV       52  Sep 30, 2004 to Sep 29, 2005    Fall 2004  ...   \n",
       "...      ...      ...                           ...          ...  ...   \n",
       "17557    ONA  Unknown              Apr 4, 2021 to ?      Unknown  ...   \n",
       "17558     TV  Unknown                     2021 to ?      Unknown  ...   \n",
       "17559     TV  Unknown                Jul, 2021 to ?  Summer 2021  ...   \n",
       "17560     TV  Unknown                       Unknown      Unknown  ...   \n",
       "17561     TV  Unknown                Jul, 2021 to ?  Summer 2021  ...   \n",
       "\n",
       "        Score-9   Score-8  Score-7  Score-6  Score-5  Score-4  Score-3  \\\n",
       "0      182126.0  131625.0  62330.0  20688.0   8904.0   3184.0   1357.0   \n",
       "1       49201.0   49505.0  22632.0   5805.0   1877.0    577.0    221.0   \n",
       "2       75651.0   86142.0  49432.0  15376.0   5838.0   1965.0    664.0   \n",
       "3        4806.0   10128.0  11618.0   5709.0   2920.0   1083.0    353.0   \n",
       "4         529.0    1242.0   1713.0   1068.0    634.0    265.0     83.0   \n",
       "...         ...       ...      ...      ...      ...      ...      ...   \n",
       "17557   Unknown   Unknown      1.0  Unknown  Unknown  Unknown  Unknown   \n",
       "17558   Unknown   Unknown  Unknown  Unknown  Unknown  Unknown  Unknown   \n",
       "17559   Unknown   Unknown  Unknown  Unknown  Unknown  Unknown  Unknown   \n",
       "17560   Unknown   Unknown  Unknown  Unknown  Unknown  Unknown  Unknown   \n",
       "17561   Unknown   Unknown  Unknown  Unknown  Unknown  Unknown  Unknown   \n",
       "\n",
       "       Score-2  Score-1                                           synopsis  \n",
       "0        741.0   1580.0  In the year 2071, humanity has colonized sever...  \n",
       "1        109.0    379.0  other day, another bounty—such is the life of ...  \n",
       "2        316.0    533.0  Vash the Stampede is the man with a $$60,000,0...  \n",
       "3        164.0    131.0  ches are individuals with special powers like ...  \n",
       "4         50.0     27.0  It is the dark century and the people are suff...  \n",
       "...        ...      ...                                                ...  \n",
       "17557  Unknown  Unknown  No synopsis information has been added to this...  \n",
       "17558  Unknown  Unknown  ko is a typical high school student whose life...  \n",
       "17559  Unknown  Unknown          Sequel to Higurashi no Naku Koro ni Gou .  \n",
       "17560  Unknown  Unknown                          New Yama no Susume anime.  \n",
       "17561  Unknown  Unknown  Solar calendar year 2020: grotesque organisms ...  \n",
       "\n",
       "[17562 rows x 36 columns]"
      ],
      "text/html": [
       "<div>\n",
       "<style scoped>\n",
       "    .dataframe tbody tr th:only-of-type {\n",
       "        vertical-align: middle;\n",
       "    }\n",
       "\n",
       "    .dataframe tbody tr th {\n",
       "        vertical-align: top;\n",
       "    }\n",
       "\n",
       "    .dataframe thead th {\n",
       "        text-align: right;\n",
       "    }\n",
       "</style>\n",
       "<table border=\"1\" class=\"dataframe\">\n",
       "  <thead>\n",
       "    <tr style=\"text-align: right;\">\n",
       "      <th></th>\n",
       "      <th>MAL_ID</th>\n",
       "      <th>Name</th>\n",
       "      <th>Score</th>\n",
       "      <th>Genres</th>\n",
       "      <th>English name</th>\n",
       "      <th>Japanese name</th>\n",
       "      <th>Type</th>\n",
       "      <th>Episodes</th>\n",
       "      <th>Aired</th>\n",
       "      <th>Premiered</th>\n",
       "      <th>...</th>\n",
       "      <th>Score-9</th>\n",
       "      <th>Score-8</th>\n",
       "      <th>Score-7</th>\n",
       "      <th>Score-6</th>\n",
       "      <th>Score-5</th>\n",
       "      <th>Score-4</th>\n",
       "      <th>Score-3</th>\n",
       "      <th>Score-2</th>\n",
       "      <th>Score-1</th>\n",
       "      <th>synopsis</th>\n",
       "    </tr>\n",
       "  </thead>\n",
       "  <tbody>\n",
       "    <tr>\n",
       "      <th>0</th>\n",
       "      <td>1</td>\n",
       "      <td>Cowboy Bebop</td>\n",
       "      <td>8.78</td>\n",
       "      <td>Action, Adventure, Comedy, Drama, Sci-Fi, Space</td>\n",
       "      <td>Cowboy Bebop</td>\n",
       "      <td>カウボーイビバップ</td>\n",
       "      <td>TV</td>\n",
       "      <td>26</td>\n",
       "      <td>Apr 3, 1998 to Apr 24, 1999</td>\n",
       "      <td>Spring 1998</td>\n",
       "      <td>...</td>\n",
       "      <td>182126.0</td>\n",
       "      <td>131625.0</td>\n",
       "      <td>62330.0</td>\n",
       "      <td>20688.0</td>\n",
       "      <td>8904.0</td>\n",
       "      <td>3184.0</td>\n",
       "      <td>1357.0</td>\n",
       "      <td>741.0</td>\n",
       "      <td>1580.0</td>\n",
       "      <td>In the year 2071, humanity has colonized sever...</td>\n",
       "    </tr>\n",
       "    <tr>\n",
       "      <th>1</th>\n",
       "      <td>5</td>\n",
       "      <td>Cowboy Bebop: Tengoku no Tobira</td>\n",
       "      <td>8.39</td>\n",
       "      <td>Action, Drama, Mystery, Sci-Fi, Space</td>\n",
       "      <td>Cowboy Bebop:The Movie</td>\n",
       "      <td>カウボーイビバップ 天国の扉</td>\n",
       "      <td>Movie</td>\n",
       "      <td>1</td>\n",
       "      <td>Sep 1, 2001</td>\n",
       "      <td>Unknown</td>\n",
       "      <td>...</td>\n",
       "      <td>49201.0</td>\n",
       "      <td>49505.0</td>\n",
       "      <td>22632.0</td>\n",
       "      <td>5805.0</td>\n",
       "      <td>1877.0</td>\n",
       "      <td>577.0</td>\n",
       "      <td>221.0</td>\n",
       "      <td>109.0</td>\n",
       "      <td>379.0</td>\n",
       "      <td>other day, another bounty—such is the life of ...</td>\n",
       "    </tr>\n",
       "    <tr>\n",
       "      <th>2</th>\n",
       "      <td>6</td>\n",
       "      <td>Trigun</td>\n",
       "      <td>8.24</td>\n",
       "      <td>Action, Sci-Fi, Adventure, Comedy, Drama, Shounen</td>\n",
       "      <td>Trigun</td>\n",
       "      <td>トライガン</td>\n",
       "      <td>TV</td>\n",
       "      <td>26</td>\n",
       "      <td>Apr 1, 1998 to Sep 30, 1998</td>\n",
       "      <td>Spring 1998</td>\n",
       "      <td>...</td>\n",
       "      <td>75651.0</td>\n",
       "      <td>86142.0</td>\n",
       "      <td>49432.0</td>\n",
       "      <td>15376.0</td>\n",
       "      <td>5838.0</td>\n",
       "      <td>1965.0</td>\n",
       "      <td>664.0</td>\n",
       "      <td>316.0</td>\n",
       "      <td>533.0</td>\n",
       "      <td>Vash the Stampede is the man with a $$60,000,0...</td>\n",
       "    </tr>\n",
       "    <tr>\n",
       "      <th>3</th>\n",
       "      <td>7</td>\n",
       "      <td>Witch Hunter Robin</td>\n",
       "      <td>7.27</td>\n",
       "      <td>Action, Mystery, Police, Supernatural, Drama, ...</td>\n",
       "      <td>Witch Hunter Robin</td>\n",
       "      <td>Witch Hunter ROBIN (ウイッチハンターロビン)</td>\n",
       "      <td>TV</td>\n",
       "      <td>26</td>\n",
       "      <td>Jul 2, 2002 to Dec 24, 2002</td>\n",
       "      <td>Summer 2002</td>\n",
       "      <td>...</td>\n",
       "      <td>4806.0</td>\n",
       "      <td>10128.0</td>\n",
       "      <td>11618.0</td>\n",
       "      <td>5709.0</td>\n",
       "      <td>2920.0</td>\n",
       "      <td>1083.0</td>\n",
       "      <td>353.0</td>\n",
       "      <td>164.0</td>\n",
       "      <td>131.0</td>\n",
       "      <td>ches are individuals with special powers like ...</td>\n",
       "    </tr>\n",
       "    <tr>\n",
       "      <th>4</th>\n",
       "      <td>8</td>\n",
       "      <td>Bouken Ou Beet</td>\n",
       "      <td>6.98</td>\n",
       "      <td>Adventure, Fantasy, Shounen, Supernatural</td>\n",
       "      <td>Beet the Vandel Buster</td>\n",
       "      <td>冒険王ビィト</td>\n",
       "      <td>TV</td>\n",
       "      <td>52</td>\n",
       "      <td>Sep 30, 2004 to Sep 29, 2005</td>\n",
       "      <td>Fall 2004</td>\n",
       "      <td>...</td>\n",
       "      <td>529.0</td>\n",
       "      <td>1242.0</td>\n",
       "      <td>1713.0</td>\n",
       "      <td>1068.0</td>\n",
       "      <td>634.0</td>\n",
       "      <td>265.0</td>\n",
       "      <td>83.0</td>\n",
       "      <td>50.0</td>\n",
       "      <td>27.0</td>\n",
       "      <td>It is the dark century and the people are suff...</td>\n",
       "    </tr>\n",
       "    <tr>\n",
       "      <th>...</th>\n",
       "      <td>...</td>\n",
       "      <td>...</td>\n",
       "      <td>...</td>\n",
       "      <td>...</td>\n",
       "      <td>...</td>\n",
       "      <td>...</td>\n",
       "      <td>...</td>\n",
       "      <td>...</td>\n",
       "      <td>...</td>\n",
       "      <td>...</td>\n",
       "      <td>...</td>\n",
       "      <td>...</td>\n",
       "      <td>...</td>\n",
       "      <td>...</td>\n",
       "      <td>...</td>\n",
       "      <td>...</td>\n",
       "      <td>...</td>\n",
       "      <td>...</td>\n",
       "      <td>...</td>\n",
       "      <td>...</td>\n",
       "      <td>...</td>\n",
       "    </tr>\n",
       "    <tr>\n",
       "      <th>17557</th>\n",
       "      <td>48481</td>\n",
       "      <td>Daomu Biji Zhi Qinling Shen Shu</td>\n",
       "      <td>Unknown</td>\n",
       "      <td>Adventure, Mystery, Supernatural</td>\n",
       "      <td>Unknown</td>\n",
       "      <td>盗墓笔记之秦岭神树</td>\n",
       "      <td>ONA</td>\n",
       "      <td>Unknown</td>\n",
       "      <td>Apr 4, 2021 to ?</td>\n",
       "      <td>Unknown</td>\n",
       "      <td>...</td>\n",
       "      <td>Unknown</td>\n",
       "      <td>Unknown</td>\n",
       "      <td>1.0</td>\n",
       "      <td>Unknown</td>\n",
       "      <td>Unknown</td>\n",
       "      <td>Unknown</td>\n",
       "      <td>Unknown</td>\n",
       "      <td>Unknown</td>\n",
       "      <td>Unknown</td>\n",
       "      <td>No synopsis information has been added to this...</td>\n",
       "    </tr>\n",
       "    <tr>\n",
       "      <th>17558</th>\n",
       "      <td>48483</td>\n",
       "      <td>Mieruko-chan</td>\n",
       "      <td>Unknown</td>\n",
       "      <td>Comedy, Horror, Supernatural</td>\n",
       "      <td>Unknown</td>\n",
       "      <td>見える子ちゃん</td>\n",
       "      <td>TV</td>\n",
       "      <td>Unknown</td>\n",
       "      <td>2021 to ?</td>\n",
       "      <td>Unknown</td>\n",
       "      <td>...</td>\n",
       "      <td>Unknown</td>\n",
       "      <td>Unknown</td>\n",
       "      <td>Unknown</td>\n",
       "      <td>Unknown</td>\n",
       "      <td>Unknown</td>\n",
       "      <td>Unknown</td>\n",
       "      <td>Unknown</td>\n",
       "      <td>Unknown</td>\n",
       "      <td>Unknown</td>\n",
       "      <td>ko is a typical high school student whose life...</td>\n",
       "    </tr>\n",
       "    <tr>\n",
       "      <th>17559</th>\n",
       "      <td>48488</td>\n",
       "      <td>Higurashi no Naku Koro ni Sotsu</td>\n",
       "      <td>Unknown</td>\n",
       "      <td>Mystery, Dementia, Horror, Psychological, Supe...</td>\n",
       "      <td>Higurashi:When They Cry – SOTSU</td>\n",
       "      <td>ひぐらしのなく頃に卒</td>\n",
       "      <td>TV</td>\n",
       "      <td>Unknown</td>\n",
       "      <td>Jul, 2021 to ?</td>\n",
       "      <td>Summer 2021</td>\n",
       "      <td>...</td>\n",
       "      <td>Unknown</td>\n",
       "      <td>Unknown</td>\n",
       "      <td>Unknown</td>\n",
       "      <td>Unknown</td>\n",
       "      <td>Unknown</td>\n",
       "      <td>Unknown</td>\n",
       "      <td>Unknown</td>\n",
       "      <td>Unknown</td>\n",
       "      <td>Unknown</td>\n",
       "      <td>Sequel to Higurashi no Naku Koro ni Gou .</td>\n",
       "    </tr>\n",
       "    <tr>\n",
       "      <th>17560</th>\n",
       "      <td>48491</td>\n",
       "      <td>Yama no Susume: Next Summit</td>\n",
       "      <td>Unknown</td>\n",
       "      <td>Adventure, Slice of Life, Comedy</td>\n",
       "      <td>Unknown</td>\n",
       "      <td>ヤマノススメ Next Summit</td>\n",
       "      <td>TV</td>\n",
       "      <td>Unknown</td>\n",
       "      <td>Unknown</td>\n",
       "      <td>Unknown</td>\n",
       "      <td>...</td>\n",
       "      <td>Unknown</td>\n",
       "      <td>Unknown</td>\n",
       "      <td>Unknown</td>\n",
       "      <td>Unknown</td>\n",
       "      <td>Unknown</td>\n",
       "      <td>Unknown</td>\n",
       "      <td>Unknown</td>\n",
       "      <td>Unknown</td>\n",
       "      <td>Unknown</td>\n",
       "      <td>New Yama no Susume anime.</td>\n",
       "    </tr>\n",
       "    <tr>\n",
       "      <th>17561</th>\n",
       "      <td>48492</td>\n",
       "      <td>Scarlet Nexus</td>\n",
       "      <td>Unknown</td>\n",
       "      <td>Action, Fantasy</td>\n",
       "      <td>Unknown</td>\n",
       "      <td>SCARLET NEXUS</td>\n",
       "      <td>TV</td>\n",
       "      <td>Unknown</td>\n",
       "      <td>Jul, 2021 to ?</td>\n",
       "      <td>Summer 2021</td>\n",
       "      <td>...</td>\n",
       "      <td>Unknown</td>\n",
       "      <td>Unknown</td>\n",
       "      <td>Unknown</td>\n",
       "      <td>Unknown</td>\n",
       "      <td>Unknown</td>\n",
       "      <td>Unknown</td>\n",
       "      <td>Unknown</td>\n",
       "      <td>Unknown</td>\n",
       "      <td>Unknown</td>\n",
       "      <td>Solar calendar year 2020: grotesque organisms ...</td>\n",
       "    </tr>\n",
       "  </tbody>\n",
       "</table>\n",
       "<p>17562 rows × 36 columns</p>\n",
       "</div>"
      ]
     },
     "execution_count": 38,
     "metadata": {},
     "output_type": "execute_result"
    }
   ],
   "execution_count": 38
  },
  {
   "cell_type": "code",
   "metadata": {
    "ExecuteTime": {
     "end_time": "2024-12-09T12:32:13.304363Z",
     "start_time": "2024-12-09T12:32:11.430375Z"
    }
   },
   "source": [
    "vectorizer = TfidfVectorizer(sublinear_tf=True, ngram_range=(1, 2), norm='l2')\n",
    "\n",
    "anime_with_features['synopsis'] = anime_with_features['synopsis'].fillna('')\n",
    "\n",
    "anime_tfidf_matrix = vectorizer.fit_transform(anime_with_features['synopsis'].tolist())"
   ],
   "outputs": [],
   "execution_count": 98
  },
  {
   "metadata": {
    "ExecuteTime": {
     "end_time": "2024-12-09T11:25:09.065486Z",
     "start_time": "2024-12-09T11:25:09.062713Z"
    }
   },
   "cell_type": "code",
   "source": [
    "def get_recommendations(anime_name: str, n_recommendations: int = 10) -> List[str]:\n",
    "    idx = anime_with_features[anime_with_features['Name'] == anime_name].index[0]\n",
    "    cosine_similarities = anime_tfidf_matrix.dot(anime_tfidf_matrix[idx].T).toarray().ravel()\n",
    "    most_similar_animes = cosine_similarities.argsort()[-n_recommendations-1:-1]\n",
    "    return anime_with_features['Name'].iloc[most_similar_animes].tolist()\n",
    "\n",
    "def get_anime_synopsis(anime_name: str) -> str:\n",
    "    return anime_with_features[anime_with_features['Name'] == anime_name]['synopsis'].values[0]"
   ],
   "outputs": [],
   "execution_count": 40
  },
  {
   "metadata": {
    "ExecuteTime": {
     "end_time": "2024-12-09T11:41:11.269086Z",
     "start_time": "2024-12-09T11:41:11.259790Z"
    }
   },
   "cell_type": "code",
   "source": "anime_with_features.loc[2608]",
   "outputs": [
    {
     "data": {
      "text/plain": [
       "MAL_ID                                                        2832\n",
       "Name                                                    Ani*Kuri15\n",
       "Score                                                         6.79\n",
       "Genres           Slice of Life, Adventure, Fantasy, Magic, Game...\n",
       "English name                                               Unknown\n",
       "Japanese name                                              アニ＊クリ15\n",
       "Type                                                       Special\n",
       "Episodes                                                        15\n",
       "Aired                                  Jun 7, 2007 to Jun 27, 2007\n",
       "Premiered                                                  Unknown\n",
       "Producers                                                  Unknown\n",
       "Licensors                                                  Unknown\n",
       "Studios          Gonzo, Gainax, Production I.G, Madhouse, Studi...\n",
       "Source                                                    Original\n",
       "Duration                                            1 min. per ep.\n",
       "Rating                                   PG-13 - Teens 13 or older\n",
       "Ranked                                                      4465.0\n",
       "Popularity                                                    3724\n",
       "Members                                                      19330\n",
       "Favorites                                                       10\n",
       "Watching                                                       412\n",
       "Completed                                                    12204\n",
       "On-Hold                                                        401\n",
       "Dropped                                                        227\n",
       "Plan to Watch                                                 6086\n",
       "Score-10                                                     340.0\n",
       "Score-9                                                      725.0\n",
       "Score-8                                                     1767.0\n",
       "Score-7                                                     2820.0\n",
       "Score-6                                                     2004.0\n",
       "Score-5                                                     1017.0\n",
       "Score-4                                                      312.0\n",
       "Score-3                                                      120.0\n",
       "Score-2                                                       55.0\n",
       "Score-1                                                       43.0\n",
       "synopsis         15 one-minute shorts created by various people...\n",
       "Name: 2608, dtype: object"
      ]
     },
     "execution_count": 66,
     "metadata": {},
     "output_type": "execute_result"
    }
   ],
   "execution_count": 66
  },
  {
   "metadata": {
    "ExecuteTime": {
     "end_time": "2024-12-09T12:32:44.991449Z",
     "start_time": "2024-12-09T12:32:44.984211Z"
    }
   },
   "cell_type": "code",
   "source": [
    "similarities_by_col = {}\n",
    "feature_columns = [\n",
    "    'Genres_f',\n",
    "    'Type_f',\n",
    "    'Source_f',\n",
    "    'Studios_f',\n",
    "    'Favorites_f',\n",
    "    'Popularity_f',\n",
    "    'Members_f',\n",
    "    'Rating_f',\n",
    "    'Synopsis_f'\n",
    "]"
   ],
   "outputs": [],
   "execution_count": 99
  },
  {
   "metadata": {
    "ExecuteTime": {
     "end_time": "2024-12-09T11:51:44.926019Z",
     "start_time": "2024-12-09T11:51:44.797344Z"
    }
   },
   "cell_type": "code",
   "source": [
    "for f in ['Source_f', 'Studios_f', 'Type_f', 'Rating_f', 'Genres_f']:\n",
    "    anime_with_features[f] = anime_with_features[f[:-2]].apply(lambda x: x.split(', '))"
   ],
   "outputs": [],
   "execution_count": 97
  },
  {
   "metadata": {
    "ExecuteTime": {
     "end_time": "2024-12-09T11:46:50.505558Z",
     "start_time": "2024-12-09T11:46:50.493706Z"
    }
   },
   "cell_type": "code",
   "source": [
    "for f in ['Favorites_f', 'Members_f', 'Popularity_f']:\n",
    "    anime_with_features[f] = anime_with_features[f[:-2]].apply(lambda x: [x])"
   ],
   "outputs": [],
   "execution_count": 94
  },
  {
   "cell_type": "code",
   "metadata": {
    "ExecuteTime": {
     "end_time": "2024-12-09T11:46:54.917154Z",
     "start_time": "2024-12-09T11:46:50.638320Z"
    }
   },
   "source": [
    "for col in tqdm(feature_columns):\n",
    "    # закодируем категориальные признаки\n",
    "    mapping = {k: v for v, k in enumerate(anime_with_features[col].explode().unique().tolist())}\n",
    "\n",
    "    # построим разреженную матрицу признаков для каждого тайтла\n",
    "    rows = []\n",
    "    cols = []\n",
    "    values = []\n",
    "    for row_ind, value in enumerate(anime_with_features[col]):\n",
    "        value = [] if value is None else value\n",
    "\n",
    "        # колонки – значения признака\n",
    "        col_inds = [mapping[x] for x in value]\n",
    "        rows.extend([row_ind] * len(col_inds))\n",
    "        # ставим 1, если такой признак относится к тайтлу\n",
    "        values.extend([1] * len(col_inds))\n",
    "        cols.extend(col_inds)\n",
    "\n",
    "    # построим матрицу похожести для каждого признака с помощью матрики косинусного расстояния\n",
    "    sparse_data = csr_matrix((values, (rows, cols)))\n",
    "    sparse_data = normalize(sparse_data, norm=\"l2\", axis=1)\n",
    "    similarities_by_col[col] = (sparse_data @ sparse_data.T).A"
   ],
   "outputs": [
    {
     "name": "stderr",
     "output_type": "stream",
     "text": [
      "100%|██████████| 7/7 [00:04<00:00,  1.64it/s]\n"
     ]
    }
   ],
   "execution_count": 95
  },
  {
   "metadata": {
    "ExecuteTime": {
     "end_time": "2024-12-09T12:33:19.471459Z",
     "start_time": "2024-12-09T12:33:13.843448Z"
    }
   },
   "cell_type": "code",
   "source": "similarities_by_col['Synopsis'] = (anime_tfidf_matrix @ anime_tfidf_matrix.T).A",
   "outputs": [],
   "execution_count": 100
  },
  {
   "metadata": {},
   "cell_type": "code",
   "outputs": [],
   "execution_count": null,
   "source": ""
  },
  {
   "metadata": {},
   "cell_type": "markdown",
   "source": "## Ансамбль посчитанных схожестей"
  },
  {
   "metadata": {
    "ExecuteTime": {
     "end_time": "2024-12-09T12:34:13.690397Z",
     "start_time": "2024-12-09T12:34:09.782171Z"
    }
   },
   "cell_type": "code",
   "source": [
    "N = len(anime_with_features)\n",
    "\n",
    "similarities = np.zeros((N, N))\n",
    "for k, v in tqdm(similarities_by_col.items()):\n",
    "    weight = 1  # каждый признак имеет одинаковую важность\n",
    "    # итоговая похожесть -- усреднение похожести по каждому признаку\n",
    "    similarities += weight * (v - np.eye(N))  # вычитаем\n",
    "\n",
    "similarities.shape"
   ],
   "outputs": [
    {
     "name": "stderr",
     "output_type": "stream",
     "text": [
      "100%|██████████| 1/1 [00:03<00:00,  3.89s/it]\n"
     ]
    },
    {
     "data": {
      "text/plain": [
       "(17562, 17562)"
      ]
     },
     "execution_count": 102,
     "metadata": {},
     "output_type": "execute_result"
    }
   ],
   "execution_count": 102
  },
  {
   "metadata": {
    "ExecuteTime": {
     "end_time": "2024-12-09T13:32:20.379669Z",
     "start_time": "2024-12-09T13:32:19.963005Z"
    }
   },
   "cell_type": "code",
   "source": "anime_with_features.to_parquet('./data/anime_with_features.parquet')",
   "outputs": [],
   "execution_count": 103
  },
  {
   "metadata": {},
   "cell_type": "code",
   "outputs": [],
   "execution_count": null,
   "source": ""
  }
 ],
 "metadata": {
  "kernelspec": {
   "display_name": "dl_normal",
   "language": "python",
   "name": "python3"
  },
  "language_info": {
   "codemirror_mode": {
    "name": "ipython",
    "version": 3
   },
   "file_extension": ".py",
   "mimetype": "text/x-python",
   "name": "python",
   "nbconvert_exporter": "python",
   "pygments_lexer": "ipython3",
   "version": "3.9.18"
  }
 },
 "nbformat": 4,
 "nbformat_minor": 2
}
