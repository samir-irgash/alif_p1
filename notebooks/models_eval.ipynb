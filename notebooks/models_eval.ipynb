{
 "cells": [
  {
   "cell_type": "code",
   "id": "initial_id",
   "metadata": {
    "collapsed": true,
    "ExecuteTime": {
     "end_time": "2024-12-15T18:11:44.708966Z",
     "start_time": "2024-12-15T18:11:43.751203Z"
    }
   },
   "source": [
    "import numpy as np\n",
    "import pandas as pd\n",
    "\n",
    "from tqdm import tqdm\n",
    "\n",
    "from app.models.baseline import Baseline\n",
    "from app.models.collaborative import CollaborativeFilteringUserUser\n",
    "from app.models import ContentBasedModel"
   ],
   "outputs": [],
   "execution_count": 1
  },
  {
   "metadata": {},
   "cell_type": "markdown",
   "source": "# Metric Functions",
   "id": "15201eb9f1810906"
  },
  {
   "metadata": {
    "ExecuteTime": {
     "end_time": "2024-12-15T18:11:44.712550Z",
     "start_time": "2024-12-15T18:11:44.710422Z"
    }
   },
   "cell_type": "code",
   "source": [
    "def hit_rate(y_rec, y_rel, k=10):\n",
    "    return int(len(set(y_rel).intersection(y_rec[:k])) > 0)"
   ],
   "id": "49deb613fae09ef1",
   "outputs": [],
   "execution_count": 2
  },
  {
   "metadata": {},
   "cell_type": "markdown",
   "source": "# Datasets",
   "id": "119a54ba603128c2"
  },
  {
   "metadata": {
    "ExecuteTime": {
     "end_time": "2024-12-15T18:11:44.857940Z",
     "start_time": "2024-12-15T18:11:44.713406Z"
    }
   },
   "cell_type": "code",
   "source": [
    "train_set = pd.read_parquet('../data/train.parquet')\n",
    "test_set = pd.read_parquet('../data/test.parquet')\n",
    "\n",
    "anime_with_features = pd.read_parquet('../data/anime_with_features.parquet')"
   ],
   "id": "aea5294c35ca06c6",
   "outputs": [],
   "execution_count": 3
  },
  {
   "metadata": {},
   "cell_type": "markdown",
   "source": "# Models evaluation",
   "id": "fed20b259b88bf06"
  },
  {
   "metadata": {},
   "cell_type": "markdown",
   "source": "## Baseline by average rating ",
   "id": "3ee9fab738c4ca36"
  },
  {
   "metadata": {
    "ExecuteTime": {
     "end_time": "2024-12-15T17:24:55.277379Z",
     "start_time": "2024-12-15T17:24:55.272972Z"
    }
   },
   "cell_type": "code",
   "source": "model = Baseline(kind='avg')",
   "id": "5aad171f55aa315b",
   "outputs": [],
   "execution_count": 14
  },
  {
   "metadata": {
    "ExecuteTime": {
     "end_time": "2024-12-15T17:24:55.914747Z",
     "start_time": "2024-12-15T17:24:55.759903Z"
    }
   },
   "cell_type": "code",
   "source": "model.train(train_set)",
   "id": "f24a577d4a2471a8",
   "outputs": [],
   "execution_count": 15
  },
  {
   "metadata": {
    "ExecuteTime": {
     "end_time": "2024-12-15T17:25:05.993090Z",
     "start_time": "2024-12-15T17:24:57.338008Z"
    }
   },
   "cell_type": "code",
   "source": [
    "test_hit_rates = []\n",
    "cold_user_count = 0\n",
    "for user_id in tqdm(test_set['user_id'].unique()):\n",
    "    try:\n",
    "        actual_items = test_set[test_set['user_id'] == user_id]['anime_id'].tolist()\n",
    "        recommendations = model.recommend(top_k=10)\n",
    "        test_hit_rates.append(hit_rate(recommendations, actual_items))\n",
    "    except ValueError as e:\n",
    "        cold_user_count += 1\n",
    "\n",
    "test_hit_rate = np.mean(test_hit_rates)\n",
    "print(f\"Hit Rate on Test Set: {test_hit_rate}\")\n",
    "print(f\"Cold User Count: {cold_user_count}\")"
   ],
   "id": "88eff7f60ca5f306",
   "outputs": [
    {
     "name": "stderr",
     "output_type": "stream",
     "text": [
      "100%|██████████| 26851/26851 [00:08<00:00, 3107.78it/s]"
     ]
    },
    {
     "name": "stdout",
     "output_type": "stream",
     "text": [
      "Hit Rate on Test Set: 7.4485121596961e-05\n",
      "Cold User Count: 0\n"
     ]
    },
    {
     "name": "stderr",
     "output_type": "stream",
     "text": [
      "\n"
     ]
    }
   ],
   "execution_count": 16
  },
  {
   "metadata": {},
   "cell_type": "markdown",
   "source": "## Baseline by max '10' marks",
   "id": "bd864c5bb1e76d71"
  },
  {
   "metadata": {
    "ExecuteTime": {
     "end_time": "2024-12-15T17:25:10.915741Z",
     "start_time": "2024-12-15T17:25:10.911881Z"
    }
   },
   "cell_type": "code",
   "source": "model = Baseline(kind='max10')",
   "id": "107c041122b77d0",
   "outputs": [],
   "execution_count": 17
  },
  {
   "metadata": {
    "ExecuteTime": {
     "end_time": "2024-12-15T17:25:11.518883Z",
     "start_time": "2024-12-15T17:25:11.024593Z"
    }
   },
   "cell_type": "code",
   "source": "model.train(train_set)",
   "id": "c660b2c687bd75f4",
   "outputs": [],
   "execution_count": 18
  },
  {
   "metadata": {
    "ExecuteTime": {
     "end_time": "2024-12-15T17:25:20.417863Z",
     "start_time": "2024-12-15T17:25:11.560849Z"
    }
   },
   "cell_type": "code",
   "source": [
    "test_hit_rates = []\n",
    "cold_user_count = 0\n",
    "for user_id in tqdm(test_set['user_id'].unique()):\n",
    "    try:\n",
    "        actual_items = test_set[test_set['user_id'] == user_id]['anime_id'].tolist()\n",
    "        recommendations = model.recommend(top_k=10)\n",
    "        test_hit_rates.append(hit_rate(recommendations, actual_items))\n",
    "    except ValueError as e:\n",
    "        cold_user_count += 1\n",
    "\n",
    "test_hit_rate = np.mean(test_hit_rates)\n",
    "print(f\"Hit Rate on Test Set: {test_hit_rate}\")\n",
    "print(f\"Cold User Count: {cold_user_count}\")"
   ],
   "id": "e92a63ead5f40c42",
   "outputs": [
    {
     "name": "stderr",
     "output_type": "stream",
     "text": [
      "100%|██████████| 26851/26851 [00:08<00:00, 3038.17it/s]"
     ]
    },
    {
     "name": "stdout",
     "output_type": "stream",
     "text": [
      "Hit Rate on Test Set: 0.5217310342259134\n",
      "Cold User Count: 0\n"
     ]
    },
    {
     "name": "stderr",
     "output_type": "stream",
     "text": [
      "\n"
     ]
    }
   ],
   "execution_count": 19
  },
  {
   "metadata": {},
   "cell_type": "markdown",
   "source": "## Collaborative filtering User-User",
   "id": "be36e2ac6401b584"
  },
  {
   "metadata": {
    "ExecuteTime": {
     "end_time": "2024-12-15T17:26:48.816997Z",
     "start_time": "2024-12-15T17:26:48.812324Z"
    }
   },
   "cell_type": "code",
   "source": "model = CollaborativeFilteringUserUser()",
   "id": "a1dfc4778cebba95",
   "outputs": [],
   "execution_count": 21
  },
  {
   "metadata": {
    "ExecuteTime": {
     "end_time": "2024-12-15T17:28:02.766215Z",
     "start_time": "2024-12-15T17:26:59.086197Z"
    }
   },
   "cell_type": "code",
   "source": "model.train(train_set)",
   "id": "9a23feebe1f4c559",
   "outputs": [],
   "execution_count": 22
  },
  {
   "metadata": {
    "ExecuteTime": {
     "end_time": "2024-12-15T17:32:18.841881Z",
     "start_time": "2024-12-15T17:28:12.562581Z"
    }
   },
   "cell_type": "code",
   "source": [
    "# Evaluate on the test set\n",
    "test_hit_rates = []\n",
    "cold_user_count = 0\n",
    "for user_id in tqdm(test_set['user_id'].unique()):\n",
    "    try:\n",
    "        actual_items = test_set[test_set['user_id'] == user_id]['anime_id'].tolist()\n",
    "        recommendations = model.recommend(user_id, top_k=10)\n",
    "        test_hit_rates.append(hit_rate(recommendations, actual_items))\n",
    "    except ValueError as e:\n",
    "        cold_user_count += 1\n",
    "\n",
    "test_hit_rate = np.mean(test_hit_rates)\n",
    "print(f\"Hit Rate on Test Set: {test_hit_rate}\")\n",
    "print(f\"Cold User Count: {cold_user_count}\")"
   ],
   "id": "b048a4ebc616a6a4",
   "outputs": [
    {
     "name": "stderr",
     "output_type": "stream",
     "text": [
      "100%|██████████| 26851/26851 [04:06<00:00, 109.04it/s]"
     ]
    },
    {
     "name": "stdout",
     "output_type": "stream",
     "text": [
      "Hit Rate on Test Set: 0.04051220608057511\n",
      "Cold User Count: 143\n"
     ]
    },
    {
     "name": "stderr",
     "output_type": "stream",
     "text": [
      "\n"
     ]
    }
   ],
   "execution_count": 23
  },
  {
   "metadata": {},
   "cell_type": "markdown",
   "source": "## Content-based",
   "id": "826705c47006daba"
  },
  {
   "metadata": {
    "ExecuteTime": {
     "end_time": "2024-12-15T18:11:50.695534Z",
     "start_time": "2024-12-15T18:11:50.692109Z"
    }
   },
   "cell_type": "code",
   "source": "model = ContentBasedModel()",
   "id": "926489e43bad8bed",
   "outputs": [],
   "execution_count": 4
  },
  {
   "metadata": {
    "ExecuteTime": {
     "end_time": "2024-12-15T18:12:57.045636Z",
     "start_time": "2024-12-15T18:12:07.677890Z"
    }
   },
   "cell_type": "code",
   "source": "model.train(anime_with_features)",
   "id": "f6ddd57a7c221ee",
   "outputs": [
    {
     "name": "stderr",
     "output_type": "stream",
     "text": [
      "100%|██████████| 9/9 [00:36<00:00,  4.03s/it]\n"
     ]
    }
   ],
   "execution_count": 6
  },
  {
   "metadata": {
    "ExecuteTime": {
     "end_time": "2024-12-15T18:19:34.156994Z",
     "start_time": "2024-12-15T18:12:57.053808Z"
    }
   },
   "cell_type": "code",
   "source": [
    "test_hit_rates = []\n",
    "cold_user_count = 0\n",
    "for user_id in tqdm(test_set['user_id'].unique()):\n",
    "    try:\n",
    "        actual_items = test_set[test_set['user_id'] == user_id]['anime_id'].tolist()\n",
    "        recommendations = model.recommend(user_id, train_set, top_k=10)\n",
    "        test_hit_rates.append(hit_rate(recommendations, actual_items))\n",
    "    except ValueError as e:\n",
    "        cold_user_count += 1\n",
    "\n",
    "test_hit_rate = np.mean(test_hit_rates)\n",
    "print(f\"Hit Rate on Test Set: {test_hit_rate}\")\n",
    "print(f\"Cold User Count: {cold_user_count}\")"
   ],
   "id": "243bd7655cef2a00",
   "outputs": [
    {
     "name": "stderr",
     "output_type": "stream",
     "text": [
      "100%|██████████| 26851/26851 [06:37<00:00, 67.63it/s]"
     ]
    },
    {
     "name": "stdout",
     "output_type": "stream",
     "text": [
      "Hit Rate on Test Set: 0.20368428935150518\n",
      "Cold User Count: 143\n"
     ]
    },
    {
     "name": "stderr",
     "output_type": "stream",
     "text": [
      "\n"
     ]
    }
   ],
   "execution_count": 7
  },
  {
   "metadata": {},
   "cell_type": "markdown",
   "source": "## Conclusions",
   "id": "13408ba3a796feed"
  },
  {
   "metadata": {},
   "cell_type": "markdown",
   "source": [
    "Baseline по средней оценки (без учета популярности) показала самый низкий хитрейт@10=7.4485121596961e-05\n",
    "\n",
    "Baseline по самому большому количество десяток показала самый высокий хитрейт@10=52%\n",
    "   - скорее всего связано с большими фандомами таких аниме как Наруто, Ван Пис, ДрагонболЗ\n",
    "\n",
    "Коллаборативная фильтраци (Юзер к Юзеру) показала хитрейт@10=0.040\n",
    "\n",
    "Content-based рекомендации показали относительно хороший результат\n",
    "с хитрейт@10=20%"
   ],
   "id": "4d934bcd1f401ff6"
  },
  {
   "metadata": {},
   "cell_type": "code",
   "outputs": [],
   "execution_count": null,
   "source": "",
   "id": "41fd1a03a60a7f82"
  }
 ],
 "metadata": {
  "kernelspec": {
   "display_name": "Python 3",
   "language": "python",
   "name": "python3"
  },
  "language_info": {
   "codemirror_mode": {
    "name": "ipython",
    "version": 2
   },
   "file_extension": ".py",
   "mimetype": "text/x-python",
   "name": "python",
   "nbconvert_exporter": "python",
   "pygments_lexer": "ipython2",
   "version": "2.7.6"
  }
 },
 "nbformat": 4,
 "nbformat_minor": 5
}
